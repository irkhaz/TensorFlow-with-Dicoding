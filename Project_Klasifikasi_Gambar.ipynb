{
  "nbformat": 4,
  "nbformat_minor": 0,
  "metadata": {
    "colab": {
      "name": "Project_Klasifikasi_Gambar.ipynb",
      "provenance": [],
      "collapsed_sections": []
    },
    "kernelspec": {
      "name": "python3",
      "display_name": "Python 3"
    },
    "language_info": {
      "name": "python"
    }
  },
  "cells": [
    {
      "cell_type": "markdown",
      "metadata": {
        "id": "6QikBgDPH7Ze"
      },
      "source": [
        "* Nama : Irhas Candra Sagita\n",
        "* email : irhascs@gmail.com\n",
        "* Alamat : Jl. Mawar 0 blok D4 No. 2 RT01/RW27 Perum PTM Kel. Wanasari, Kec. Cibitung, Kab. Bekasi 17520\n",
        "* Saat ini bekerja sebagai Staff Logistik di PT. Saranagriya Lestari Keramik\n",
        "\n",
        "\n",
        "\n",
        "\n"
      ]
    },
    {
      "cell_type": "markdown",
      "metadata": {
        "id": "ax5jVDdaIlbM"
      },
      "source": [
        "Di dalam tugas ini berisi program jaringan saraf tiruan menggunakan TensorFlow yang bertujuan untuk mengenali bentuk tangan yang membentuk gunting, batu atau kertas"
      ]
    },
    {
      "cell_type": "markdown",
      "metadata": {
        "id": "tnQyOYg8NxkR"
      },
      "source": [
        "Pertama install library split folder"
      ]
    },
    {
      "cell_type": "code",
      "metadata": {
        "colab": {
          "base_uri": "https://localhost:8080/"
        },
        "id": "Z0awrBdWRcAf",
        "outputId": "fc18c725-9754-4862-8850-fcbdf51cfbf5"
      },
      "source": [
        "!pip install split-folders"
      ],
      "execution_count": 1,
      "outputs": [
        {
          "output_type": "stream",
          "text": [
            "Collecting split-folders\n",
            "  Downloading split_folders-0.4.3-py3-none-any.whl (7.4 kB)\n",
            "Installing collected packages: split-folders\n",
            "Successfully installed split-folders-0.4.3\n"
          ],
          "name": "stdout"
        }
      ]
    },
    {
      "cell_type": "markdown",
      "metadata": {
        "id": "JCzwUERRRlUf"
      },
      "source": [
        "lalu kita download dataset yang dibutuhkan"
      ]
    },
    {
      "cell_type": "code",
      "metadata": {
        "colab": {
          "base_uri": "https://localhost:8080/"
        },
        "id": "EKgmsTmyRNya",
        "outputId": "a606d425-8055-4f3f-dc2d-b3f966b9b261"
      },
      "source": [
        "!wget --no-check-certificate \\\n",
        "  https://dicodingacademy.blob.core.windows.net/picodiploma/ml_pemula_academy/rockpaperscissors.zip \\\n",
        "  -O /tmp/rockpaperscissors.zip"
      ],
      "execution_count": 2,
      "outputs": [
        {
          "output_type": "stream",
          "text": [
            "--2021-07-26 13:10:42--  https://dicodingacademy.blob.core.windows.net/picodiploma/ml_pemula_academy/rockpaperscissors.zip\n",
            "Resolving dicodingacademy.blob.core.windows.net (dicodingacademy.blob.core.windows.net)... 52.239.197.36\n",
            "Connecting to dicodingacademy.blob.core.windows.net (dicodingacademy.blob.core.windows.net)|52.239.197.36|:443... connected.\n",
            "HTTP request sent, awaiting response... 200 OK\n",
            "Length: 322873683 (308M) [application/zip]\n",
            "Saving to: ‘/tmp/rockpaperscissors.zip’\n",
            "\n",
            "/tmp/rockpapersciss 100%[===================>] 307.92M  6.61MB/s    in 72s     \n",
            "\n",
            "2021-07-26 13:11:55 (4.30 MB/s) - ‘/tmp/rockpaperscissors.zip’ saved [322873683/322873683]\n",
            "\n"
          ],
          "name": "stdout"
        }
      ]
    },
    {
      "cell_type": "markdown",
      "metadata": {
        "id": "hEvfVYnGNJgr"
      },
      "source": [
        "Import library TensorFlow\n"
      ]
    },
    {
      "cell_type": "code",
      "metadata": {
        "id": "gLDK9hwsF1cq"
      },
      "source": [
        "import tensorflow as tf\n",
        "from tensorflow.keras.preprocessing.image import ImageDataGenerator\n",
        "from tensorflow.keras.optimizers import RMSprop"
      ],
      "execution_count": 3,
      "outputs": []
    },
    {
      "cell_type": "markdown",
      "metadata": {
        "id": "KeqEql44S4NT"
      },
      "source": [
        "Mengekstrak dataset yang sudah didownload"
      ]
    },
    {
      "cell_type": "code",
      "metadata": {
        "id": "39nS25N4OEd1"
      },
      "source": [
        "import zipfile,os\n",
        "\n",
        "local_zip = '/tmp/rockpaperscissors.zip'\n",
        "zip_ref = zipfile.ZipFile(local_zip, 'r')\n",
        "zip_ref.extractall('/tmp')\n",
        "zip_ref.close()"
      ],
      "execution_count": 4,
      "outputs": []
    },
    {
      "cell_type": "markdown",
      "metadata": {
        "id": "KL5-TLMFOIUH"
      },
      "source": [
        "Membuat direktori utama"
      ]
    },
    {
      "cell_type": "code",
      "metadata": {
        "id": "8XIiSzz0Od4i"
      },
      "source": [
        "base_dir = '/tmp/rockpaperscissors/rps-cv-images'"
      ],
      "execution_count": 5,
      "outputs": []
    },
    {
      "cell_type": "code",
      "metadata": {
        "colab": {
          "base_uri": "https://localhost:8080/",
          "height": 35
        },
        "id": "PjffLgb_QSkT",
        "outputId": "61ae6cca-7b79-4088-fa19-3b6c7f9c1817"
      },
      "source": [
        "base_dir"
      ],
      "execution_count": 6,
      "outputs": [
        {
          "output_type": "execute_result",
          "data": {
            "application/vnd.google.colaboratory.intrinsic+json": {
              "type": "string"
            },
            "text/plain": [
              "'/tmp/rockpaperscissors/rps-cv-images'"
            ]
          },
          "metadata": {
            "tags": []
          },
          "execution_count": 6
        }
      ]
    },
    {
      "cell_type": "code",
      "metadata": {
        "colab": {
          "base_uri": "https://localhost:8080/"
        },
        "id": "dov9XCalQVmP",
        "outputId": "486462bd-d5bb-465a-b492-4502c215b23e"
      },
      "source": [
        "os.listdir(base_dir)"
      ],
      "execution_count": 7,
      "outputs": [
        {
          "output_type": "execute_result",
          "data": {
            "text/plain": [
              "['scissors', 'rock', 'README_rpc-cv-images.txt', 'paper']"
            ]
          },
          "metadata": {
            "tags": []
          },
          "execution_count": 7
        }
      ]
    },
    {
      "cell_type": "markdown",
      "metadata": {
        "id": "XWGZ9y6jPT8X"
      },
      "source": [
        "Membagi data training dan data validation dengan persentase 40%, serta proses augmentasi gambar"
      ]
    },
    {
      "cell_type": "code",
      "metadata": {
        "colab": {
          "base_uri": "https://localhost:8080/"
        },
        "id": "vk_IiaUZPedU",
        "outputId": "0f54fba8-a571-4871-bb40-85cf80c30136"
      },
      "source": [
        "train_datagen = ImageDataGenerator(\n",
        "    rescale = 1./255, \n",
        "    rotation_range = 30, \n",
        "    shear_range = 0.2, \n",
        "    horizontal_flip = True,\n",
        "    zoom_range = 0.2,\n",
        "    fill_mode = 'nearest',\n",
        "    validation_split = 0.4\n",
        "    ) \n",
        "\n",
        "test_datagen = ImageDataGenerator(\n",
        "    rescale=1./255, \n",
        "    #zoom_range = 0.2, \n",
        "    #shear_range = 0.2, \n",
        "    #horizontal_flip = True,\n",
        "    validation_split = 0.4\n",
        "    )\n",
        "\n",
        "train_generator = train_datagen.flow_from_directory(\n",
        "    base_dir, \n",
        "    target_size = (100, 150),  \n",
        "    batch_size = 32,\n",
        "    subset = 'training',\n",
        "    class_mode = 'categorical'\n",
        "    )\n",
        "\n",
        "validation_generator = test_datagen.flow_from_directory(\n",
        "    base_dir, \n",
        "    target_size=(100, 150),\n",
        "    batch_size = 32,\n",
        "    subset='validation',\n",
        "    class_mode = 'categorical'\n",
        "    )\n"
      ],
      "execution_count": 9,
      "outputs": [
        {
          "output_type": "stream",
          "text": [
            "Found 1314 images belonging to 3 classes.\n",
            "Found 874 images belonging to 3 classes.\n"
          ],
          "name": "stdout"
        }
      ]
    },
    {
      "cell_type": "markdown",
      "metadata": {
        "id": "O2iE9aXnUf65"
      },
      "source": [
        "Membuat arsitektur CNN :\n",
        "* Layer Convolusion untuk mengekstrak atribut pada gambar\n",
        "* Max Pooling untuk mereduksi resolusi gambar\n",
        "\n"
      ]
    },
    {
      "cell_type": "code",
      "metadata": {
        "id": "IEe3MD8-VF70"
      },
      "source": [
        "model = tf.keras.models.Sequential([\n",
        "                                    tf.keras.layers.Conv2D(32, (3,3), activation='relu', input_shape=(100,150,3)),\n",
        "                                    tf.keras.layers.MaxPooling2D(2, 2),\n",
        "                                    tf.keras.layers.Conv2D(64, (3,3), activation='relu'),\n",
        "                                    tf.keras.layers.MaxPooling2D(2, 2),\n",
        "                                    tf.keras.layers.Conv2D(128, (3,3), activation='relu'),\n",
        "                                    tf.keras.layers.MaxPooling2D(2, 2),\n",
        "                                    tf.keras.layers.Conv2D(256, (3,3), activation='relu'),\n",
        "                                    tf.keras.layers.MaxPooling2D(2, 2),\n",
        "\n",
        "\n",
        "                                    tf.keras.layers.Flatten(),\n",
        "                                    tf.keras.layers.Dense(128, activation='relu'),\n",
        "                                    tf.keras.layers.Dense(3, activation='softmax')\n",
        "])"
      ],
      "execution_count": 10,
      "outputs": []
    },
    {
      "cell_type": "markdown",
      "metadata": {
        "id": "4g3B8KC3VwDB"
      },
      "source": [
        "Menggunakan fungsi ```compile``` pada model dan menentukan ```loss object``` serta ```optimizer```\n",
        "\n"
      ]
    },
    {
      "cell_type": "code",
      "metadata": {
        "id": "1yzTe6T4WKu5",
        "colab": {
          "base_uri": "https://localhost:8080/"
        },
        "outputId": "6b2f1c48-b699-42ee-9230-bca68a0bf378"
      },
      "source": [
        "model.compile(\n",
        "    loss='categorical_crossentropy',\n",
        "    optimizer = 'adam',\n",
        "    metrics = ['accuracy']\n",
        ")\n",
        "\n",
        "model.summary()"
      ],
      "execution_count": 13,
      "outputs": [
        {
          "output_type": "stream",
          "text": [
            "Model: \"sequential\"\n",
            "_________________________________________________________________\n",
            "Layer (type)                 Output Shape              Param #   \n",
            "=================================================================\n",
            "conv2d (Conv2D)              (None, 98, 148, 32)       896       \n",
            "_________________________________________________________________\n",
            "max_pooling2d (MaxPooling2D) (None, 49, 74, 32)        0         \n",
            "_________________________________________________________________\n",
            "conv2d_1 (Conv2D)            (None, 47, 72, 64)        18496     \n",
            "_________________________________________________________________\n",
            "max_pooling2d_1 (MaxPooling2 (None, 23, 36, 64)        0         \n",
            "_________________________________________________________________\n",
            "conv2d_2 (Conv2D)            (None, 21, 34, 128)       73856     \n",
            "_________________________________________________________________\n",
            "max_pooling2d_2 (MaxPooling2 (None, 10, 17, 128)       0         \n",
            "_________________________________________________________________\n",
            "conv2d_3 (Conv2D)            (None, 8, 15, 256)        295168    \n",
            "_________________________________________________________________\n",
            "max_pooling2d_3 (MaxPooling2 (None, 4, 7, 256)         0         \n",
            "_________________________________________________________________\n",
            "flatten (Flatten)            (None, 7168)              0         \n",
            "_________________________________________________________________\n",
            "dense (Dense)                (None, 128)               917632    \n",
            "_________________________________________________________________\n",
            "dense_1 (Dense)              (None, 3)                 387       \n",
            "=================================================================\n",
            "Total params: 1,306,435\n",
            "Trainable params: 1,306,435\n",
            "Non-trainable params: 0\n",
            "_________________________________________________________________\n"
          ],
          "name": "stdout"
        }
      ]
    },
    {
      "cell_type": "markdown",
      "metadata": {
        "id": "QVLoVTWbWt0B"
      },
      "source": [
        "melatih model menggunakan metode ```fit```"
      ]
    },
    {
      "cell_type": "code",
      "metadata": {
        "colab": {
          "base_uri": "https://localhost:8080/"
        },
        "id": "UTPYNBdKWg7X",
        "outputId": "ef623936-ed69-46e8-8999-93e116dceaf4"
      },
      "source": [
        "train = model.fit(\n",
        "    train_generator,\n",
        "    steps_per_epoch = 25, \n",
        "    epochs = 25, \n",
        "    validation_data = validation_generator, \n",
        "    validation_steps = 5, \n",
        "    verbose = 2\n",
        "    )"
      ],
      "execution_count": 14,
      "outputs": [
        {
          "output_type": "stream",
          "text": [
            "Epoch 1/25\n",
            "25/25 - 30s - loss: 1.0848 - accuracy: 0.4117 - val_loss: 1.0556 - val_accuracy: 0.3250\n",
            "Epoch 2/25\n",
            "25/25 - 29s - loss: 0.8100 - accuracy: 0.6182 - val_loss: 0.5859 - val_accuracy: 0.6625\n",
            "Epoch 3/25\n",
            "25/25 - 29s - loss: 0.5317 - accuracy: 0.7909 - val_loss: 0.5290 - val_accuracy: 0.7937\n",
            "Epoch 4/25\n",
            "25/25 - 29s - loss: 0.4027 - accuracy: 0.8587 - val_loss: 0.3253 - val_accuracy: 0.9062\n",
            "Epoch 5/25\n",
            "25/25 - 29s - loss: 0.3723 - accuracy: 0.8714 - val_loss: 0.7219 - val_accuracy: 0.8250\n",
            "Epoch 6/25\n",
            "25/25 - 29s - loss: 0.2704 - accuracy: 0.9013 - val_loss: 0.1980 - val_accuracy: 0.9438\n",
            "Epoch 7/25\n",
            "25/25 - 29s - loss: 0.2398 - accuracy: 0.9175 - val_loss: 0.1710 - val_accuracy: 0.9375\n",
            "Epoch 8/25\n",
            "25/25 - 29s - loss: 0.2277 - accuracy: 0.9262 - val_loss: 0.1827 - val_accuracy: 0.9563\n",
            "Epoch 9/25\n",
            "25/25 - 28s - loss: 0.1772 - accuracy: 0.9377 - val_loss: 0.1367 - val_accuracy: 0.9563\n",
            "Epoch 10/25\n",
            "25/25 - 29s - loss: 0.2173 - accuracy: 0.9225 - val_loss: 0.0958 - val_accuracy: 0.9750\n",
            "Epoch 11/25\n",
            "25/25 - 32s - loss: 0.1611 - accuracy: 0.9450 - val_loss: 0.1229 - val_accuracy: 0.9563\n",
            "Epoch 12/25\n",
            "25/25 - 30s - loss: 0.1790 - accuracy: 0.9312 - val_loss: 0.1204 - val_accuracy: 0.9688\n",
            "Epoch 13/25\n",
            "25/25 - 28s - loss: 0.1938 - accuracy: 0.9234 - val_loss: 0.1984 - val_accuracy: 0.9312\n",
            "Epoch 14/25\n",
            "25/25 - 29s - loss: 0.1728 - accuracy: 0.9362 - val_loss: 0.0785 - val_accuracy: 0.9688\n",
            "Epoch 15/25\n",
            "25/25 - 29s - loss: 0.1143 - accuracy: 0.9597 - val_loss: 0.1388 - val_accuracy: 0.9563\n",
            "Epoch 16/25\n",
            "25/25 - 28s - loss: 0.1027 - accuracy: 0.9610 - val_loss: 0.2049 - val_accuracy: 0.9688\n",
            "Epoch 17/25\n",
            "25/25 - 28s - loss: 0.0843 - accuracy: 0.9688 - val_loss: 0.1222 - val_accuracy: 0.9563\n",
            "Epoch 18/25\n",
            "25/25 - 29s - loss: 0.0979 - accuracy: 0.9575 - val_loss: 0.0512 - val_accuracy: 0.9875\n",
            "Epoch 19/25\n",
            "25/25 - 28s - loss: 0.0726 - accuracy: 0.9753 - val_loss: 0.0946 - val_accuracy: 0.9812\n",
            "Epoch 20/25\n",
            "25/25 - 29s - loss: 0.0895 - accuracy: 0.9675 - val_loss: 0.0369 - val_accuracy: 0.9937\n",
            "Epoch 21/25\n",
            "25/25 - 28s - loss: 0.0642 - accuracy: 0.9831 - val_loss: 0.0555 - val_accuracy: 0.9688\n",
            "Epoch 22/25\n",
            "25/25 - 29s - loss: 0.1218 - accuracy: 0.9571 - val_loss: 0.1449 - val_accuracy: 0.9563\n",
            "Epoch 23/25\n",
            "25/25 - 28s - loss: 0.0826 - accuracy: 0.9675 - val_loss: 0.0197 - val_accuracy: 0.9937\n",
            "Epoch 24/25\n",
            "25/25 - 28s - loss: 0.0317 - accuracy: 0.9896 - val_loss: 0.0589 - val_accuracy: 0.9875\n",
            "Epoch 25/25\n",
            "25/25 - 28s - loss: 0.1173 - accuracy: 0.9701 - val_loss: 0.2922 - val_accuracy: 0.9312\n"
          ],
          "name": "stdout"
        }
      ]
    },
    {
      "cell_type": "markdown",
      "metadata": {
        "id": "lKU3vqvKXihp"
      },
      "source": [
        "Evaluasi akurasi dan loss dari model yang dibuat"
      ]
    },
    {
      "cell_type": "code",
      "metadata": {
        "colab": {
          "base_uri": "https://localhost:8080/",
          "height": 981
        },
        "id": "06Ed7W6OXoxU",
        "outputId": "933ef2dc-b515-40df-f3e3-f13b329dc614"
      },
      "source": [
        "import matplotlib.pyplot as plt\n",
        "\n",
        "acc = train.history['accuracy']\n",
        "val_acc = train.history['val_accuracy']\n",
        "loss = train.history['loss']\n",
        "val_loss = train.history['val_loss']\n",
        "\n",
        "epochs_acc = range(len(acc))\n",
        "plt.figure(figsize=(12,8))\n",
        "plt.plot(epochs_acc, acc, 'r', label='Training accuracy')\n",
        "plt.plot(epochs_acc, val_acc, 'b', label='Validation accuracy')\n",
        "plt.title('Training and validation accuracy')\n",
        "plt.legend(loc=0)\n",
        "plt.show()\n",
        "\n",
        "epochs_loss = range(len(loss))\n",
        "plt.figure(figsize=(12,8))\n",
        "plt.plot(epochs_loss, loss, 'r', label='Training loss')\n",
        "plt.plot(epochs_loss, val_loss, 'b', label='Validation loss')\n",
        "plt.title('Training and validation loss')\n",
        "plt.legend(loc=0)\n",
        "plt.show()"
      ],
      "execution_count": 15,
      "outputs": [
        {
          "output_type": "display_data",
          "data": {
            "image/png": "[encoded data removed]",
            "text/plain": [
              "<Figure size 864x576 with 1 Axes>"
            ]
          },
          "metadata": {
            "tags": [],
            "needs_background": "light"
          }
        },
        {
          "output_type": "display_data",
          "data": {
            "image/png": "[encoded data removed]",
            "text/plain": [
              "<Figure size 864x576 with 1 Axes>"
            ]
          },
          "metadata": {
            "tags": [],
            "needs_background": "light"
          }
        }
      ]
    },
    {
      "cell_type": "markdown",
      "metadata": {
        "id": "AUNxtWRadHhN"
      },
      "source": [
        "Implementasi augmentasi gambar"
      ]
    },
    {
      "cell_type": "code",
      "metadata": {
        "colab": {
          "resources": {
            "http://localhost:8080/nbextensions/google.colab/files.js": {
              "data": "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",
              "ok": true,
              "headers": [
                [
                  "content-type",
                  "application/javascript"
                ]
              ],
              "status": 200,
              "status_text": ""
            }
          },
          "base_uri": "https://localhost:8080/",
          "height": 374
        },
        "id": "OVH-gV66dKYf",
        "outputId": "9b942584-9fcf-4a7e-b6e1-667ada9d664c"
      },
      "source": [
        "import numpy as np\n",
        "from google.colab import files\n",
        "from keras.preprocessing import image\n",
        "import matplotlib.pyplot as plt\n",
        "import matplotlib.image as mpimg\n",
        "%matplotlib inline\n",
        "\n",
        "uploaded = files.upload()\n",
        "\n",
        "for fn in uploaded.keys():\n",
        "  path = fn\n",
        "  img = image.load_img(path, target_size=(100,150))\n",
        "  imgplot = plt.imshow(img)\n",
        "  x = image.img_to_array(img)\n",
        "  x = np.expand_dims(x, axis=0)\n",
        "\n",
        "  \n",
        "  images = np.vstack([x])\n",
        "  classes = model.predict(images, batch_size=10)\n",
        "  outclass = np.argmax(classes)\n",
        "  probability = sorted(model.predict(images)[0])[2]\n",
        "\n",
        "  print(fn)\n",
        "  if outclass == 0:\n",
        "    print('paper')\n",
        "  elif outclass == 1:\n",
        "    print('rock')\n",
        "  else:\n",
        "    print('scissors')\n",
        "  print(\"Probability: \", round(probability*100,2), \"%\")"
      ],
      "execution_count": 19,
      "outputs": [
        {
          "output_type": "display_data",
          "data": {
            "text/html": [
              "\n",
              "     <input type=\"file\" id=\"files-678f3791-30fc-4669-94c9-1415237d8d60\" name=\"files[]\" multiple disabled\n",
              "        style=\"border:none\" />\n",
              "     <output id=\"result-678f3791-30fc-4669-94c9-1415237d8d60\">\n",
              "      Upload widget is only available when the cell has been executed in the\n",
              "      current browser session. Please rerun this cell to enable.\n",
              "      </output>\n",
              "      <script src=\"/nbextensions/google.colab/files.js\"></script> "
            ],
            "text/plain": [
              "<IPython.core.display.HTML object>"
            ]
          },
          "metadata": {
            "tags": []
          }
        },
        {
          "output_type": "stream",
          "text": [
            "Saving batu_b-removebg-preview.png to batu_b-removebg-preview.png\n",
            "batu_b-removebg-preview.png\n",
            "rock\n",
            "Probability:  100.0 %\n"
          ],
          "name": "stdout"
        },
        {
          "output_type": "display_data",
          "data": {
            "image/png": "[encoded data removed]",
            "text/plain": [
              "<Figure size 432x288 with 1 Axes>"
            ]
          },
          "metadata": {
            "tags": [],
            "needs_background": "light"
          }
        }
      ]
    }
  ]
}